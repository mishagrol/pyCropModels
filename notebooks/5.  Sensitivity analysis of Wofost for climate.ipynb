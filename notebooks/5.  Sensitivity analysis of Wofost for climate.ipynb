{
 "cells": [
  {
   "cell_type": "markdown",
   "metadata": {},
   "source": [
    "<img style=\"float: right;\" src=\"data:image/png;base64,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\">\n",
    "\n"
   ]
  },
  {
   "cell_type": "markdown",
   "metadata": {},
   "source": [
    "<h1>Applying sensitivity analysis to WOFOST under future climate</h1>\n",
    "\n",
    "Sensitivity analysis is the study of how the uncertainty in the output of a mathematical model or system (numerical or otherwise) can be apportioned to different sources of uncertainty in its inputs (<a href=\"https://en.wikipedia.org/wiki/Sensitivity_analysis\">Wikipedia</a>). The sensitivity of each input is often represented by a numeric value, called the sensitivity index.\n",
    "\n",
    "In this notebook we demonstrate how to run a sensitivity analysis for the WOFOST model for a number of important parameters. The problem with WOFOST is that the sensitivity of the model can differ for different crops and regions depending on whether you are close to certain thresholds in the model. Therefore it is more useful to provide a general guideline for sensitivity analysis through this notebook rather than predefined set of sensitive parameters.\n",
    "\n",
    "A limitation of this notebook is that is only applies for the scalar parameters in WOFOST. WOFOST also has a number of tabular parameters which are defined as as a function of development stage or temperature. The sensitivity of these parameters cannot be properly analyzed with the approach used in this notebook.\n",
    "\n",
    "Below the WOFOST model is run for a sugar beet crop in the Netherlands and then sensitivity analysis is applied. The target variable for sensitivity is the total weight of the storage organs (TWSO) which represents the crop yield. However, other variables could be choosen as well such as total crop biomass or maximum leaf area index.\n",
    "\n",
    "*Steven Hoek and Allard de Wit, Wageningen Environmental Sciences, June 2020*\n",
    "\n",
    "## Dependencies for running this notebook\n",
    "This notebook require the following package to be installed:\n",
    "- [PCSE](https://pcse.readthedocs.io/en/stable/) and its dependencies (numpy, pandas, PyYAML, SQLAlchemy,...)\n",
    "- [SAlib](https://salib.readthedocs.io/en/latest/)\n",
    "- [IPython](http://ipython.org/)\n",
    "- [tqdm](https://tqdm.github.io/) for showing a progressbar\n"
   ]
  },
  {
   "cell_type": "code",
   "execution_count": null,
   "metadata": {},
   "outputs": [
    {
     "name": "stdout",
     "output_type": "stream",
     "text": [
      "\n",
      "\u001b[1m[\u001b[0m\u001b[34;49mnotice\u001b[0m\u001b[1;39;49m]\u001b[0m\u001b[39;49m A new release of pip is available: \u001b[0m\u001b[31;49m24.0\u001b[0m\u001b[39;49m -> \u001b[0m\u001b[32;49m24.3.1\u001b[0m\n",
      "\u001b[1m[\u001b[0m\u001b[34;49mnotice\u001b[0m\u001b[1;39;49m]\u001b[0m\u001b[39;49m To update, run: \u001b[0m\u001b[32;49mpip install --upgrade pip\u001b[0m\n",
      "\n",
      "\u001b[1m[\u001b[0m\u001b[34;49mnotice\u001b[0m\u001b[1;39;49m]\u001b[0m\u001b[39;49m A new release of pip is available: \u001b[0m\u001b[31;49m24.0\u001b[0m\u001b[39;49m -> \u001b[0m\u001b[32;49m24.3.1\u001b[0m\n",
      "\u001b[1m[\u001b[0m\u001b[34;49mnotice\u001b[0m\u001b[1;39;49m]\u001b[0m\u001b[39;49m To update, run: \u001b[0m\u001b[32;49mpip install --upgrade pip\u001b[0m\n",
      "\n",
      "\u001b[1m[\u001b[0m\u001b[34;49mnotice\u001b[0m\u001b[1;39;49m]\u001b[0m\u001b[39;49m A new release of pip is available: \u001b[0m\u001b[31;49m24.0\u001b[0m\u001b[39;49m -> \u001b[0m\u001b[32;49m24.3.1\u001b[0m\n",
      "\u001b[1m[\u001b[0m\u001b[34;49mnotice\u001b[0m\u001b[1;39;49m]\u001b[0m\u001b[39;49m To update, run: \u001b[0m\u001b[32;49mpip install --upgrade pip\u001b[0m\n"
     ]
    }
   ],
   "source": [
    "!pip3 -q install SAlib\n",
    "!pip3 -q install pcse\n",
    "!pip3 -q install progressbar"
   ]
  },
  {
   "cell_type": "code",
   "execution_count": null,
   "metadata": {},
   "outputs": [
    {
     "name": "stdout",
     "output_type": "stream",
     "text": [
      "This notebook was built with:\n",
      "python version: 3.11.8 (v3.11.8:db85d51d3e, Feb  6 2024, 18:02:37) [Clang 13.0.0 (clang-1300.0.29.30)]\n",
      "PCSE version: 6.0.6\n"
     ]
    }
   ],
   "source": [
    "import sys, os.path\n",
    "import yaml\n",
    "import numpy as np\n",
    "import pandas as pd\n",
    "from tqdm import tqdm\n",
    "from SALib.sample import saltelli\n",
    "from SALib.analyze import sobol\n",
    "import matplotlib.pyplot as plt\n",
    "from IPython.display import display\n",
    "pd.set_option(\"display.max_rows\", None)\n",
    "pd.set_option(\"display.max_colwidth\", 250)\n",
    "\n",
    "import pcse\n",
    "from pcse.models import Wofost72_PP\n",
    "from pcse.base import ParameterProvider\n",
    "from pcse.input import NASAPowerWeatherDataProvider\n",
    "from pcse.input import YAMLCropDataProvider\n",
    "from pcse.util import WOFOST72SiteDataProvider, DummySoilDataProvider\n",
    "# from progressbar import printProgressBar\n",
    "\n",
    "print(\"This notebook was built with:\")\n",
    "print(f\"python version: {sys.version}\")\n",
    "print(f\"PCSE version: {pcse.__version__}\")"
   ]
  },
  {
   "cell_type": "markdown",
   "metadata": {},
   "source": [
    "## WOFOST parameters\n",
    "The table below gives an overview of important scalar WOFOST parameters related to the potential production situation."
   ]
  },
  {
   "cell_type": "code",
   "execution_count": null,
   "metadata": {},
   "outputs": [],
   "source": [
    "# df = pd.read_excel(\"ScalarParametersOfWofost-Potential.xlsx\")\n",
    "# display(df)"
   ]
  },
  {
   "cell_type": "markdown",
   "metadata": {},
   "source": [
    "## Settings for crop and location\n",
    "In the following, standard data are used to run the WOFOST model for sugarbeet in the Netherlands. Feel free to carry out this sensitivity analysis for a different crop and / or a different location."
   ]
  },
  {
   "cell_type": "code",
   "execution_count": null,
   "metadata": {},
   "outputs": [],
   "source": [
    "# Define location, crop and season\n",
    "# latitude = 52.0\n",
    "# longitude = 5.0\n",
    "\n",
    "latitude = 51.5\n",
    "longitude = 37.1\n",
    "crop_name = 'wheat'\n",
    "variety_name = 'Winter_wheat_101'\n",
    "campaign_start_date = '2022-01-01'\n",
    "emergence_date = \"2022-03-31\"\n",
    "harvest_date = \"2022-10-20\"\n",
    "max_duration = 300"
   ]
  },
  {
   "cell_type": "markdown",
   "metadata": {},
   "source": [
    "## Constructing the cropping calendar"
   ]
  },
  {
   "cell_type": "code",
   "execution_count": null,
   "metadata": {},
   "outputs": [
    {
     "name": "stdout",
     "output_type": "stream",
     "text": [
      "\n",
      "- 2022-01-01:\n",
      "    CropCalendar:\n",
      "        crop_name: wheat\n",
      "        variety_name: Winter_wheat_101\n",
      "        crop_start_date: 2022-03-31\n",
      "        crop_start_type: emergence\n",
      "        crop_end_date: 2022-10-20\n",
      "        crop_end_type: harvest\n",
      "        max_duration: 300\n",
      "    TimedEvents: null\n",
      "    StateEvents: null\n",
      "\n"
     ]
    }
   ],
   "source": [
    "# Here we define the agromanagement for sugar beet\n",
    "agro_yaml = \"\"\"\n",
    "- {start}:\n",
    "    CropCalendar:\n",
    "        crop_name: {cname}\n",
    "        variety_name: {vname}\n",
    "        crop_start_date: {startdate}\n",
    "        crop_start_type: emergence\n",
    "        crop_end_date: {enddate}\n",
    "        crop_end_type: harvest\n",
    "        max_duration: {maxdur}\n",
    "    TimedEvents: null\n",
    "    StateEvents: null\n",
    "\"\"\".format(cname=crop_name, vname=variety_name, \n",
    "           start=campaign_start_date, startdate=emergence_date, \n",
    "           enddate=harvest_date, maxdur=max_duration)\n",
    "agro = yaml.safe_load(agro_yaml)\n",
    "print(agro_yaml)"
   ]
  },
  {
   "cell_type": "markdown",
   "metadata": {},
   "source": [
    "## Retrieving weather input and model parameters"
   ]
  },
  {
   "cell_type": "code",
   "execution_count": null,
   "metadata": {},
   "outputs": [
    {
     "name": "stdout",
     "output_type": "stream",
     "text": [
      "Unknown parameter values provided to WOFOSTSiteDataProvider: {'CO2': 360.0}\n"
     ]
    }
   ],
   "source": [
    "# Weather data for Netherlands\n",
    "wdp = NASAPowerWeatherDataProvider(latitude=latitude, longitude=longitude)\n",
    "\n",
    "# Parameter sets for crop, soil and site\n",
    "# Standard crop parameter library\n",
    "cropd = YAMLCropDataProvider()\n",
    "# We don't need soil for potential production, so we use dummy values\n",
    "soild = DummySoilDataProvider()\n",
    "# Some site parameters\n",
    "sited = WOFOST72SiteDataProvider(WAV=50, CO2=360.)\n",
    "\n",
    "# Retrieve all parameters in the form of a single object. \n",
    "# In order to see all parameters for the selected crop already, we\n",
    "# synchronise data provider cropd with the crop/variety: \n",
    "firstkey = list(agro[0])[0]\n",
    "cropcalendar = agro[0][firstkey]['CropCalendar'] \n",
    "cropd.set_active_crop(cropcalendar['crop_name'], cropcalendar['variety_name'])\n",
    "params = ParameterProvider(cropdata=cropd, sitedata=sited, soildata=soild)"
   ]
  },
  {
   "cell_type": "markdown",
   "metadata": {},
   "source": [
    "## Defining the analysis\n",
    "Sensitivity analysis involves that we vary the model parameters a bit, to see how sensitive the model is to inaccuracies / variations in those values. We focus on variations in the model parameters and not on inaccuracies in driving variables usch as rainfall or temperature. \n",
    "\n",
    "In the following, intervals are defined for parameters. It is necessary to acquire knowledge of what are realistic values for the parameters which is often crop specific and region specific."
   ]
  },
  {
   "cell_type": "code",
   "execution_count": null,
   "metadata": {},
   "outputs": [],
   "source": [
    "# Define the target variable\n",
    "target_variable = \"TWSO\"\n",
    "\n",
    "# For each scalar parameter, determine a sensible interval \n",
    "problem_yaml = \"\"\"\n",
    "    num_vars: 5\n",
    "    names: \n",
    "    - TSUM1\n",
    "    - TSUM2\n",
    "    - SPAN\n",
    "    - Q10\n",
    "    - TDWI\n",
    "    bounds:\n",
    "    - [500, 800]\n",
    "    - [1200, 1600]\n",
    "    - [28, 37]\n",
    "    - [1.8, 2.2]\n",
    "    - [0.4, 0.6]\n",
    "\"\"\"\n",
    "problem = yaml.safe_load(problem_yaml)"
   ]
  },
  {
   "cell_type": "markdown",
   "metadata": {},
   "source": [
    "## First and second order sensitivities\n",
    "When running a sensitivity analysis, we may compute first and second order sensitivities. Calculating second order sensitivities may require a large number of models runs if the number of parameters is large.\n",
    "\n",
    "In this examples we use the Saltelli sampler to sample a number of combinations of parameter values and we will derive first and second order sensitivity. The variable `nsamples` indicates the number of samples to generate, higher values will provide better estimates of sensitivity but increase computation time."
   ]
  },
  {
   "cell_type": "code",
   "execution_count": null,
   "metadata": {},
   "outputs": [
    {
     "name": "stdout",
     "output_type": "stream",
     "text": [
      "We are going to do 1536 simulations\n"
     ]
    },
    {
     "name": "stderr",
     "output_type": "stream",
     "text": [
      "/var/folders/r7/28f5nfmd03331pjr6dhr_6jm0000gn/T/ipykernel_46173/191958038.py:3: DeprecationWarning: `salib.sample.saltelli` will be removed in SALib 1.5.1 Please use `salib.sample.sobol`\n",
      "  paramsets = saltelli.sample(problem, nsamples, calc_second_order=calc_second_order)\n"
     ]
    }
   ],
   "source": [
    "calc_second_order = True\n",
    "nsamples = 2**(6+1)\n",
    "paramsets = saltelli.sample(problem, nsamples, calc_second_order=calc_second_order)\n",
    "print(\"We are going to do %s simulations\" % len(paramsets))"
   ]
  },
  {
   "cell_type": "markdown",
   "metadata": {},
   "source": [
    "## Running the model\n",
    "Below we are going to loop over the parameter sets sampled by the Saltelli sampler."
   ]
  },
  {
   "cell_type": "code",
   "execution_count": null,
   "metadata": {},
   "outputs": [],
   "source": [
    "from pcse.models import Wofost71_WLP_FD"
   ]
  },
  {
   "cell_type": "code",
   "execution_count": null,
   "metadata": {},
   "outputs": [
    {
     "name": "stderr",
     "output_type": "stream",
     "text": [
      "100%|█████████████████████████████████████████████████████████████████████████████████████████████████████████████████████████████| 1536/1536 [03:43<00:00,  6.88it/s]\n"
     ]
    }
   ],
   "source": [
    "# Loop over the samples of the parameter values and run WOFOST for each of the samples\n",
    "target_results = []\n",
    "with tqdm(total=len(paramsets)) as pbar:\n",
    "    for i, paramset in enumerate(paramsets):\n",
    "        params.clear_override()\n",
    "        for name, value in zip(problem[\"names\"], paramset):\n",
    "            params.set_override(name, value)\n",
    "        wofost = Wofost71_WLP_FD(params, wdp, agro)\n",
    "        wofost.run_till_terminate()\n",
    "        r = wofost.get_summary_output()\n",
    "        target_result = r[0][target_variable]\n",
    "        if target_result is None:\n",
    "            print(\"Target variable is not available in summary output!\")\n",
    "        target_results.append(target_result)\n",
    "        pbar.update()\n",
    "target_results = np.array(target_results)"
   ]
  },
  {
   "cell_type": "markdown",
   "metadata": {},
   "source": [
    "# Computing sensitivity indices\n",
    "We will use the [Sobol](https://en.wikipedia.org/wiki/Variance-based_sensitivity_analysis) method to assess the response of the model to the variations in the parameters. Besides Sobol, other known methods are Morris and FAST. See also: https://salib.readthedocs.io/en/latest/."
   ]
  },
  {
   "cell_type": "code",
   "execution_count": null,
   "metadata": {},
   "outputs": [
    {
     "name": "stderr",
     "output_type": "stream",
     "text": [
      "/Users/msk-hq-nb-2960/samokat/lib/python3.11/site-packages/SALib/util/__init__.py:274: FutureWarning: unique with argument that is not not a Series, Index, ExtensionArray, or np.ndarray is deprecated and will raise in a future version.\n",
      "  names = list(pd.unique(groups))\n"
     ]
    }
   ],
   "source": [
    "# Use the Sobol method to analyse the results of the simulations\n",
    "Si = sobol.analyze(problem, target_results, calc_second_order=calc_second_order)"
   ]
  },
  {
   "cell_type": "markdown",
   "metadata": {},
   "source": [
    "## Plotting results\n",
    "After running the cell below, a chart with first order and total order sensitivity is drawn. The first order  sensitivity index for a parameter represents the fraction of the variance in the target variable caused by the variation in the input parameter. Total order indices represent the total variance in the target variable for a given parameter, including all variance caused by its interactions, of any order, with any other input variable. \n",
    "\n",
    "In many models there are statistical dependencies between parameters or physical constraints on the model. In such cases part of the variance in the output is also caused by interactions between variables which is not represented by the first order indices. In such cases, second order indices need to be calculated. If the total-order indices are substantially larger than the first-order indices, then it is likely that there are higher-order interactions occurring. It means that if both parameters are changed at the same time, it will have a large effect on the target variable.\n",
    "\n",
    "Note that indices do not necessarily add up to unity and often indices can become slightly negative due to sampling error. Such negative index values would disappear if the number of samples would be increased."
   ]
  },
  {
   "cell_type": "code",
   "execution_count": null,
   "metadata": {},
   "outputs": [
    {
     "data": {
      "image/png": "[encoded data removed]",
      "text/plain": [
       "<Figure size 1000x600 with 1 Axes>"
      ]
     },
     "metadata": {},
     "output_type": "display_data"
    }
   ],
   "source": [
    "df_sensitivity = pd.DataFrame({\n",
    "    \"Parameter\": problem[\"names\"],\n",
    "    \"First_order\": Si[\"S1\"],\n",
    "    \"Total_order\": Si[\"ST\"]}).set_index(\"Parameter\")\n",
    "fig, axes = plt.subplots(figsize=(10,6))\n",
    "df_sensitivity.plot(kind=\"bar\", ax=axes)\n",
    "plt.title('Current climate')\n",
    "plt.savefig('./wofost_sa_current.png', dpi=300)"
   ]
  },
  {
   "cell_type": "code",
   "execution_count": null,
   "metadata": {},
   "outputs": [
    {
     "data": {
      "text/html": [
       "<div>\n",
       "<style scoped>\n",
       "    .dataframe tbody tr th:only-of-type {\n",
       "        vertical-align: middle;\n",
       "    }\n",
       "\n",
       "    .dataframe tbody tr th {\n",
       "        vertical-align: top;\n",
       "    }\n",
       "\n",
       "    .dataframe thead th {\n",
       "        text-align: right;\n",
       "    }\n",
       "</style>\n",
       "<table border=\"1\" class=\"dataframe\">\n",
       "  <thead>\n",
       "    <tr style=\"text-align: right;\">\n",
       "      <th></th>\n",
       "      <th>First_order</th>\n",
       "      <th>Total_order</th>\n",
       "    </tr>\n",
       "    <tr>\n",
       "      <th>Parameter</th>\n",
       "      <th></th>\n",
       "      <th></th>\n",
       "    </tr>\n",
       "  </thead>\n",
       "  <tbody>\n",
       "    <tr>\n",
       "      <th>TSUM1</th>\n",
       "      <td>0.910551</td>\n",
       "      <td>0.930971</td>\n",
       "    </tr>\n",
       "    <tr>\n",
       "      <th>TSUM2</th>\n",
       "      <td>0.001293</td>\n",
       "      <td>0.002578</td>\n",
       "    </tr>\n",
       "    <tr>\n",
       "      <th>SPAN</th>\n",
       "      <td>0.018676</td>\n",
       "      <td>0.016763</td>\n",
       "    </tr>\n",
       "    <tr>\n",
       "      <th>Q10</th>\n",
       "      <td>-0.000249</td>\n",
       "      <td>0.001088</td>\n",
       "    </tr>\n",
       "    <tr>\n",
       "      <th>TDWI</th>\n",
       "      <td>0.068780</td>\n",
       "      <td>0.073664</td>\n",
       "    </tr>\n",
       "  </tbody>\n",
       "</table>\n",
       "</div>"
      ],
      "text/plain": [
       "           First_order  Total_order\n",
       "Parameter                          \n",
       "TSUM1         0.910551     0.930971\n",
       "TSUM2         0.001293     0.002578\n",
       "SPAN          0.018676     0.016763\n",
       "Q10          -0.000249     0.001088\n",
       "TDWI          0.068780     0.073664"
      ]
     },
     "execution_count": null,
     "metadata": {},
     "output_type": "execute_result"
    }
   ],
   "source": [
    "df_sensitivity"
   ]
  },
  {
   "cell_type": "code",
   "execution_count": null,
   "metadata": {},
   "outputs": [],
   "source": [
    "df_sensitivity.to_excel('current_climate.xlsx')"
   ]
  },
  {
   "cell_type": "markdown",
   "metadata": {},
   "source": [
    "## Second order sensitivities\n",
    "Second order sensitivities deal with the combined sensitivity of two parameters. The results can therefore most easily be visualized through a matrix "
   ]
  },
  {
   "cell_type": "code",
   "execution_count": null,
   "metadata": {},
   "outputs": [
    {
     "data": {
      "text/html": [
       "<div>\n",
       "<style scoped>\n",
       "    .dataframe tbody tr th:only-of-type {\n",
       "        vertical-align: middle;\n",
       "    }\n",
       "\n",
       "    .dataframe tbody tr th {\n",
       "        vertical-align: top;\n",
       "    }\n",
       "\n",
       "    .dataframe thead th {\n",
       "        text-align: right;\n",
       "    }\n",
       "</style>\n",
       "<table border=\"1\" class=\"dataframe\">\n",
       "  <thead>\n",
       "    <tr style=\"text-align: right;\">\n",
       "      <th></th>\n",
       "      <th>TSUM1</th>\n",
       "      <th>TSUM2</th>\n",
       "      <th>SPAN</th>\n",
       "      <th>Q10</th>\n",
       "      <th>TDWI</th>\n",
       "    </tr>\n",
       "  </thead>\n",
       "  <tbody>\n",
       "    <tr>\n",
       "      <th>TSUM1</th>\n",
       "      <td>NaN</td>\n",
       "      <td>0.006882</td>\n",
       "      <td>0.006957</td>\n",
       "      <td>0.011341</td>\n",
       "      <td>0.025704</td>\n",
       "    </tr>\n",
       "    <tr>\n",
       "      <th>TSUM2</th>\n",
       "      <td>NaN</td>\n",
       "      <td>NaN</td>\n",
       "      <td>0.001156</td>\n",
       "      <td>0.001277</td>\n",
       "      <td>0.002768</td>\n",
       "    </tr>\n",
       "    <tr>\n",
       "      <th>SPAN</th>\n",
       "      <td>NaN</td>\n",
       "      <td>NaN</td>\n",
       "      <td>NaN</td>\n",
       "      <td>-0.011138</td>\n",
       "      <td>-0.012864</td>\n",
       "    </tr>\n",
       "    <tr>\n",
       "      <th>Q10</th>\n",
       "      <td>NaN</td>\n",
       "      <td>NaN</td>\n",
       "      <td>NaN</td>\n",
       "      <td>NaN</td>\n",
       "      <td>0.002780</td>\n",
       "    </tr>\n",
       "    <tr>\n",
       "      <th>TDWI</th>\n",
       "      <td>NaN</td>\n",
       "      <td>NaN</td>\n",
       "      <td>NaN</td>\n",
       "      <td>NaN</td>\n",
       "      <td>NaN</td>\n",
       "    </tr>\n",
       "  </tbody>\n",
       "</table>\n",
       "</div>"
      ],
      "text/plain": [
       "       TSUM1     TSUM2      SPAN       Q10      TDWI\n",
       "TSUM1    NaN  0.006882  0.006957  0.011341  0.025704\n",
       "TSUM2    NaN       NaN  0.001156  0.001277  0.002768\n",
       "SPAN     NaN       NaN       NaN -0.011138 -0.012864\n",
       "Q10      NaN       NaN       NaN       NaN  0.002780\n",
       "TDWI     NaN       NaN       NaN       NaN       NaN"
      ]
     },
     "execution_count": null,
     "metadata": {},
     "output_type": "execute_result"
    }
   ],
   "source": [
    "# Show second-order sensitivities\n",
    "second_order = np.array(Si['S2'])\n",
    "pd.DataFrame(second_order, index=problem[\"names\"], columns=problem[\"names\"])"
   ]
  },
  {
   "cell_type": "markdown",
   "metadata": {},
   "source": [
    "or through an image showing the values in the matrix values graphically. From the results, it is clear that the second order interactions are small as all indices have a value < 0.1."
   ]
  },
  {
   "cell_type": "code",
   "execution_count": null,
   "metadata": {},
   "outputs": [
    {
     "name": "stderr",
     "output_type": "stream",
     "text": [
      "/var/folders/r7/28f5nfmd03331pjr6dhr_6jm0000gn/T/ipykernel_46173/178634132.py:7: UserWarning: set_ticklabels() should only be used with a fixed number of ticks, i.e. after set_ticks() or using a FixedLocator.\n",
      "  r = aximage.axes.set_yticklabels([\"\"] + problem[\"names\"])\n"
     ]
    },
    {
     "data": {
      "image/png": "[encoded data removed]",
      "text/plain": [
       "<Figure size 800x1000 with 2 Axes>"
      ]
     },
     "metadata": {},
     "output_type": "display_data"
    }
   ],
   "source": [
    "# Visualise second-order sensitivities\n",
    "fig, axes = plt.subplots(figsize=(8,10))\n",
    "aximage = axes.matshow(second_order, vmin=-1.0, vmax=1.0, cmap=\"RdYlBu\")\n",
    "cbar = fig.colorbar(aximage)\n",
    "aximage.axes.set_xticks(range(len(problem[\"names\"])))\n",
    "aximage.axes.set_xticklabels(problem[\"names\"], rotation=45)\n",
    "r = aximage.axes.set_yticklabels([\"\"] + problem[\"names\"])"
   ]
  },
  {
   "cell_type": "markdown",
   "metadata": {},
   "source": [
    "## Explanation\n",
    "The background of the sensitivity of sugarbeet yield to TSUM1 is related to the fact that a larger TSUM1 means that the crop will remain in its vegetative stage for a longer period. Given that there is a fixed harvest date this means that the time available for accumulating sugar in the beet root is shorter and thus simulated yields are lower.  Apparently, the other parameters that are part of the analysis do not have large impact within the selected ranges and thus TSUM1 dominates in terms of sensitivity over the other parameters."
   ]
  },
  {
   "cell_type": "code",
   "execution_count": null,
   "metadata": {},
   "outputs": [
    {
     "data": {
      "image/png": "[encoded data removed]",
      "text/plain": [
       "<Figure size 1000x500 with 1 Axes>"
      ]
     },
     "metadata": {},
     "output_type": "display_data"
    }
   ],
   "source": [
    "TSUM1_values = list(range(500, 800, 50))\n",
    "results = []\n",
    "for tsum1 in TSUM1_values:\n",
    "    params.clear_override()\n",
    "    params.set_override(\"TSUM1\", tsum1)\n",
    "    wofost = Wofost72_PP(params, wdp, agro)\n",
    "    wofost.run_till_terminate()\n",
    "    r = wofost.get_summary_output()\n",
    "    results.append(r[0][target_variable])\n",
    "\n",
    "df = pd.DataFrame({\"TSUM1\": TSUM1_values,\n",
    "                   target_variable: results}\n",
    "                 ).set_index(\"TSUM1\")\n",
    "r = df.plot(title=\"Impact of TSUM1 on wheat yield\", figsize=(10,5))"
   ]
  },
  {
   "cell_type": "markdown",
   "metadata": {},
   "source": [
    "# Speeding up simulating the samples\n",
    "Running over the samples will quickly become a lengthy process when many variables are being assessed for sensitivity. However, because the simulation for each sample is independent we can easily speed up the simulations by running on multiple CPUs. Python provides the `multiprocessing` module for starting a pool of worker processes that can carry out the simulations.\n",
    "\n",
    "Demonstrating the use of `multiprocessing` within a jupyter notebook is complicated because the notebook infrastructure does not support it. Therefore a separate python script is provided that does exactly the same calculations as this notebook both using sequential and parallel processing. It can be downloaded [here](SA_mp_example.py)."
   ]
  },
  {
   "cell_type": "markdown",
   "metadata": {},
   "source": [
    "# Climate Change Scenario for Sensitivity Analysis with LARS-WG generator"
   ]
  },
  {
   "cell_type": "code",
   "execution_count": null,
   "metadata": {},
   "outputs": [],
   "source": [
    "def weather_loader(latitude: float, longitude: float, path: str):\n",
    "    \"\"\"\n",
    "    Main fun to load weather \n",
    "    If we have CSV file - load CSV,         \n",
    "    else: Load from NASA\n",
    "    \"\"\"\n",
    "    path_weather_file = os.path.join(path ,f'NASA_weather_latitude_{latitude}_longitude_{longitude}.csv')\n",
    "    if os.path.exists(path_weather_file):\n",
    "        weather = pcse.input.CSVWeatherDataProvider(path_weather_file)\n",
    "        return weather, 'Use weather from DataBase'\n",
    "\n",
    "    else:\n",
    "        print('No such directory or CSV file')\n",
    "        \n",
    "        #API request to NASA database\n",
    "        weather = NASAPowerWeatherDataProvider(latitude, longitude, force_update=True)\n",
    "\n",
    "        # Print done if downloaded\n",
    "        print(f'Downloaded weather from NASA POWER system, latitude: {latitude}, longitude: {longitude}')\n",
    "\n",
    "        # export pcse.weather format to pandas df\n",
    "        df_weather = pd.DataFrame(weather.export())\n",
    "\n",
    "        #create full range of dates\n",
    "        r = pd.date_range(start=df_weather.DAY.min(), end=df_weather.DAY.max())\n",
    "\n",
    "        #extend range of dates\n",
    "        full_range_weather = df_weather.set_index('DAY').reindex(r).rename_axis('DAY').reset_index()\n",
    "        missing_days = (full_range_weather.isna()).sum().sum()\n",
    "        filled_weather = full_range_weather.fillna(method='ffill', axis=0)\n",
    "\n",
    "        filled_weather=filled_weather[['DAY', 'IRRAD', 'TMIN', 'TMAX',  'TEMP', 'VAP', 'WIND', 'RAIN']]\n",
    "        filled_weather['SNOWDEPTH'] = 'NaN'\n",
    "        filled_weather[['IRRAD']] = filled_weather[['IRRAD']]/1000.\n",
    "        filled_weather[['VAP']] = filled_weather[['VAP']]/10.\n",
    "        filled_weather.DAY=filled_weather.DAY.dt.strftime('%Y%m%d')\n",
    "\n",
    "        text = open(os.path.join(path,\"./pattern.csv\"), \"r\")\n",
    "        text = ''.join([i for i in text]).replace(\"1111\", str(weather.longitude))\n",
    "        text = ''.join([i for i in text]).replace(\"2222\", str(weather.latitude))\n",
    "        text = ''.join([i for i in text]).replace(\"3333\", str(weather.elevation))\n",
    "        text = ''.join([i for i in text]).replace(\"4444\", str(weather.angstA))\n",
    "        text = ''.join([i for i in text]).replace(\"5555\", str(weather.angstB))\n",
    "        x = open(os.path.join(path,f'NASA_weather_latitude_{latitude}_longitude_{longitude}.csv'),\"w\")\n",
    "        x.writelines(text)\n",
    "        x.close()\n",
    "\n",
    "        path_to_save_csv_file = os.path.join(path,f'NASA_weather_latitude_{latitude}_longitude_{longitude}.csv')\n",
    "        filled_weather.to_csv(path_to_save_csv_file, mode='a', header=False, index=False)\n",
    "\n",
    "        weather = pcse.input.CSVWeatherDataProvider(path_to_save_csv_file)\n",
    "        return weather, 'Downloaded weather from NASA system'\n"
   ]
  },
  {
   "cell_type": "code",
   "execution_count": null,
   "metadata": {},
   "outputs": [],
   "source": [
    "latitude = 51.5\n",
    "longitude = 37.1"
   ]
  },
  {
   "cell_type": "code",
   "execution_count": null,
   "metadata": {},
   "outputs": [],
   "source": [
    "import requests\n",
    "import os, sys, re\n",
    "import pandas as pd\n",
    "import numpy as np\n",
    "\n",
    "from typing import Union\n",
    "import datetime as dt\n",
    "\n",
    "from pcse.base import WeatherDataProvider, WeatherDataContainer\n",
    "from pcse.util import ea_from_tdew, reference_ET, check_angstromAB\n",
    "from pcse.exceptions import PCSEError\n",
    "\n",
    "class LARS_WOFOST(WeatherDataProvider):\n",
    "    \"\"\"WeatherDataProvider for using the AWS NASA POWER database with PCSE\n",
    "\n",
    "    :param latitude: latitude to request weather data for\n",
    "    :param longitude: longitude to request weather data for\n",
    "    :keyword ETmodel: \"PM\"|\"P\" for selecting penman-monteith or Penman\n",
    "        method for reference evapotranspiration. Defaults to \"PM\".\n",
    "\n",
    "    TO-DO: check while init class if xr.Dataset loaded into memory or not\n",
    "\n",
    "    \"\"\"\n",
    "\n",
    "\n",
    "\n",
    "    MJ_to_J = lambda x: x * 1e6\n",
    "    mm_to_cm = lambda x: x / 10.0\n",
    "    tdew_to_hpa = lambda x: ea_from_tdew(x) * 10.0\n",
    "    to_date = lambda d: d.date()\n",
    "    watt_to_joules = lambda x: x * 86400\n",
    "    kg_m2_to_mm = lambda x: x * 86400\n",
    "    K_to_C = lambda x: x - 273.15\n",
    "\n",
    "    def __init__(\n",
    "        self,\n",
    "        latitude: float,\n",
    "        longitude: float,\n",
    "        df_lars: pd.DataFrame,\n",
    "        reanalysis_year: pd.DataFrame,\n",
    "        n: int = 1,\n",
    "        ETmodel: str = \"PM\",\n",
    "    ):\n",
    "\n",
    "        WeatherDataProvider.__init__(self)\n",
    "        self.angstA = 0.29\n",
    "        self.angstB = 0.49\n",
    "        self.latitude = latitude\n",
    "        self.longitude = longitude\n",
    "        self.reanalysis_year = reanalysis_year.reset_index(drop=True)\n",
    "        self.MJ_to_J = lambda x: x * 1e6\n",
    "        self.mm_to_cm = lambda x: x / 10.0\n",
    "        self.tdew_to_hpa = lambda x: ea_from_tdew(x) * 10.0\n",
    "        self.to_date = lambda d: d.date()\n",
    "        self.watt_to_joules = lambda x: x * 86400\n",
    "        self.kg_m2_to_mm = lambda x: x * 86400\n",
    "        self.K_to_C = lambda x: x - 273.15\n",
    "\n",
    "        self.ETmodel = ETmodel\n",
    "        self.elevation = float(\n",
    "            self._get_elevation(longitude=longitude, latitude=latitude)\n",
    "        )\n",
    "        self.logger.debug(\"Start loading\")\n",
    "        self.get_wofost_weather(df_lars = df_lars, latitude=latitude, longitude=longitude, n=n)\n",
    "\n",
    "    \n",
    "    def lars_to_wofost(self, df:pd.DataFrame, n: int = 1):\n",
    "\n",
    "        expected_columns = [\"TMAX\",\"TMIN\",\"IRRAD\",\"RAIN\", \"WIND\", \"VAP\",\"DAY\", \"LAT\", \"LON\", \"ELEV\", 'TEMP']\n",
    "        # n - random sampled from 0 to 50\n",
    "        mask = df['YEAR']==n\n",
    "\n",
    "        # Sample one year for modelling\n",
    "        df_year = df.loc[mask]\n",
    "        df_year = df_year.reset_index()\n",
    "        df_year = df_year.rename(columns={'MIN': 'TMIN', \n",
    "                                          'MAX': 'TMAX', \n",
    "                                          'RAD':'IRRAD',\n",
    "                                          'RAIN':'RAIN',\n",
    "                                         })\n",
    "        \n",
    "        df_year['RAIN'] = df_year['RAIN'].apply(self.mm_to_cm)\n",
    "        df_year['IRRAD'] = df_year['IRRAD'].apply(self.MJ_to_J)\n",
    "        df_year['TEMP']=df_year[['TMIN', 'TMAX']].mean(axis=1)\n",
    "        df_year[\"DAY\"] =  df_year['date']\n",
    "        df_year[\"LAT\"] = self.latitude\n",
    "        df_year[\"LON\"] = self.longitude\n",
    "        df_year[\"ELEV\"] = self.elevation\n",
    "        df_year.loc[:, 'WIND'] = self.reanalysis_year['WIND']\n",
    "        df_year.loc[:, 'VAP'] = self.reanalysis_year['VAP']\n",
    "#         df_year.loc[:, 'DAY'] = df_year['date'].dt.strftime('%d.%m.%Y')\n",
    "        return df_year[expected_columns]\n",
    "    \n",
    "    def get_wofost_weather(self,df_lars:pd.DataFrame, latitude: float, longitude: float, n: int):\n",
    "\n",
    "        \"\"\"Handles the retrieval and processing of the NASA Power data\"\"\"\n",
    "        self.latitude = float(latitude)\n",
    "        self.longitude = float(longitude)\n",
    "        \n",
    "        df_lars_renamed = self.lars_to_wofost(df=df_lars, n=n)\n",
    "\n",
    "        self.df_lars_renamed = df_lars_renamed\n",
    "        # Store the informational header then parse variables\n",
    "        self.description = \"NASA POWER LARS-WG\"\n",
    "        self.elevation = float(\n",
    "            self._get_elevation(longitude=longitude, latitude=latitude)\n",
    "        )\n",
    "        self._make_WeatherDataContainers(df_lars_renamed.to_dict(orient=\"records\"))\n",
    "\n",
    "\n",
    "    def _get_elevation(self, longitude: float, latitude: float) -> float:\n",
    "        \"\"\"_get_elevation\n",
    "        Get elevation from OpenTopoData API by lon and lat\n",
    "\n",
    "        Args:\n",
    "            longitude (float): longitude in WGS84\n",
    "            latitude (float): latitude in WGS84\n",
    "\n",
    "        Returns:\n",
    "            float: elevation (m)\n",
    "        \"\"\"\n",
    "        url = (\n",
    "            f\"https://api.opentopodata.org/v1/aster30m?locations={latitude},{longitude}\"\n",
    "        )\n",
    "        resp = requests.get(url=url, timeout=10)\n",
    "        if resp.status_code == 200:\n",
    "            data = resp.json()\n",
    "            elevation = data[\"results\"][0][\"elevation\"]\n",
    "        else:\n",
    "            elevation = 200\n",
    "        return elevation\n",
    "\n",
    "    def _make_WeatherDataContainers(self, recs):\n",
    "        \"\"\"Create a WeatherDataContainers from recs, compute ET and store the WDC's.\"\"\"\n",
    "\n",
    "        for rec in recs:\n",
    "            # Reference evapotranspiration in mm/day\n",
    "            try:\n",
    "                E0, ES0, ET0 = reference_ET(\n",
    "                    rec[\"DAY\"],\n",
    "                    rec[\"LAT\"],\n",
    "                    rec[\"ELEV\"],\n",
    "                    rec[\"TMIN\"],\n",
    "                    rec[\"TMAX\"],\n",
    "                    rec[\"IRRAD\"],\n",
    "                    rec[\"VAP\"],\n",
    "                    rec[\"WIND\"],\n",
    "                    self.angstA,\n",
    "                    self.angstB,\n",
    "#                     self.ETmodel,\n",
    "                )\n",
    "            except ValueError as e:\n",
    "                msg = (\n",
    "                    (\"Failed to calculate reference ET values on %s. \" % rec[\"DAY\"])\n",
    "                    + (\"With input values:\\n %s.\\n\" % str(rec))\n",
    "                    + (\"Due to error: %s\" % e)\n",
    "                )\n",
    "                raise PCSEError(msg)\n",
    "\n",
    "            # update record with ET values value convert to cm/day\n",
    "            rec.update({\"E0\": E0 / 10.0, \"ES0\": ES0 / 10.0, \"ET0\": ET0 / 10.0})\n",
    "\n",
    "            # Build weather data container from dict 't'\n",
    "            wdc = WeatherDataContainer(**rec)\n",
    "\n",
    "            # add wdc to dictionary for thisdate\n",
    "            self._store_WeatherDataContainer(wdc, wdc.DAY)"
   ]
  },
  {
   "cell_type": "code",
   "execution_count": null,
   "metadata": {},
   "outputs": [
    {
     "name": "stdout",
     "output_type": "stream",
     "text": [
      "HadGEM3-GC31-LL ssp126 2081-2100\n",
      "1\n",
      "2\n",
      "3\n",
      "4\n",
      "5\n",
      "6\n",
      "7\n",
      "8\n",
      "9\n",
      "10\n",
      "11\n",
      "12\n",
      "13\n",
      "14\n",
      "15\n",
      "16\n",
      "17\n",
      "18\n",
      "19\n",
      "20\n",
      "HadGEM3-GC31-LL ssp585 2081-2100\n",
      "1\n",
      "2\n",
      "3\n",
      "4\n",
      "5\n",
      "6\n",
      "7\n",
      "8\n",
      "9\n",
      "10\n",
      "11\n",
      "12\n",
      "13\n",
      "14\n",
      "15\n",
      "16\n",
      "17\n",
      "18\n",
      "19\n",
      "20\n",
      "CNRM-CM6-1 ssp126 2081-2100\n",
      "1\n",
      "2\n",
      "3\n",
      "4\n",
      "5\n",
      "6\n",
      "7\n",
      "8\n",
      "9\n",
      "10\n",
      "11\n",
      "12\n",
      "13\n",
      "14\n",
      "15\n",
      "16\n",
      "17\n",
      "18\n",
      "19\n",
      "20\n",
      "CNRM-CM6-1 ssp585 2081-2100\n",
      "1\n",
      "2\n",
      "3\n",
      "4\n",
      "5\n",
      "6\n",
      "7\n",
      "8\n",
      "9\n",
      "10\n",
      "11\n",
      "12\n",
      "13\n",
      "14\n",
      "15\n",
      "16\n",
      "17\n",
      "18\n",
      "19\n",
      "20\n"
     ]
    }
   ],
   "source": [
    "folder = '../src/LARS-WG/LARS_KSHEN/'\n",
    "files = os.listdir(folder)\n",
    "columns = [\"YEAR\", \"JDAY\", \"MIN\", \"MAX\", \"RAIN\",\"RAD\"]\n",
    "\n",
    "# weather_current, status = weather_loader(latitude=latitude, longitude=longitude, path='../src/wofost/')\n",
    "weather_current = NASAPowerWeatherDataProvider(latitude=latitude, longitude=longitude)\n",
    "\n",
    "df_weather = pd.DataFrame(weather_current.export())\n",
    "mask = pd.to_datetime(df_weather['DAY']).dt.year==2022\n",
    "\n",
    "reanalysis_year = df_weather.loc[mask]\n",
    "# reanalysis_year = reanalysis_year.drop(columns='TEMP')\n",
    "reanalysis_year = df_weather.loc[mask]\n",
    "\n",
    "climate_df = pd.DataFrame(columns=['climate-model', 'scenario', 'period', 'n',  'WOFOST'])\n",
    "\n",
    "for model in [\"HadGEM3-GC31-LL\", \"CNRM-CM6-1\"]:\n",
    "    for scenario in ['ssp126', 'ssp585']:\n",
    "        for period in ['2081-2100']:\n",
    "            print(model, scenario, period)\n",
    "            fname = f'LARS_KSHEN_{model}[LARS_KSHEN,{scenario},{period}]WG.dat'\n",
    "            target = os.path.join(folder, fname)\n",
    "            data = pd.read_csv(target, sep='\\t', decimal=',', index_col=False, header=None, names=columns )\n",
    "            data['date'] = pd.to_datetime(data['JDAY'].apply(lambda x: '2022-'+str(x)), format='%Y-%j')\n",
    "            for n in range(1,21):\n",
    "            \n",
    "                print(n, end=' ')\n",
    "                weather_lars = LARS_WOFOST(latitude=latitude,\n",
    "                                           longitude=longitude,\n",
    "                                           df_lars=data,\n",
    "                                           n=n,\n",
    "                                           reanalysis_year=reanalysis_year)\n",
    "                # wofost_yield = run_wofost(weather=weather_lars)\n",
    "\n",
    "                wofost = Wofost71_WLP_FD(params, weather_lars, agro)\n",
    "                wofost.run_till_terminate()\n",
    "                r = wofost.get_summary_output()\n",
    "                target_result = r[0]['TWSO']\n",
    "                if target_result is None:\n",
    "                    print(\"Target variable is not available in summary output!\")\n",
    "                row = [model, scenario, period, n, target_result]\n",
    "                climate_df.loc[len(climate_df)] = row\n",
    "        # break\n",
    "    # break\n",
    "    \n",
    "\n",
    "wofost = Wofost71_WLP_FD(params, weather_current, agro)\n",
    "wofost.run_till_terminate()\n",
    "r = wofost.get_summary_output()\n",
    "target_result = r[0]['TWSO']\n",
    "row = ['Reanalysis', 'Current', '2022', 0,  target_result]\n",
    "climate_df.loc[len(climate_df)] = row"
   ]
  },
  {
   "cell_type": "code",
   "execution_count": null,
   "metadata": {},
   "outputs": [
    {
     "data": {
      "text/plain": [
       "<Axes: xlabel='climate-model', ylabel='WOFOST'>"
      ]
     },
     "execution_count": null,
     "metadata": {},
     "output_type": "execute_result"
    },
    {
     "data": {
      "image/png": "[encoded data removed]",
      "text/plain": [
       "<Figure size 640x480 with 1 Axes>"
      ]
     },
     "metadata": {},
     "output_type": "display_data"
    }
   ],
   "source": [
    "import seaborn as sns\n",
    "sns.barplot(y='WOFOST', x ='climate-model',  hue= 'scenario',  data=climate_df)"
   ]
  },
  {
   "cell_type": "markdown",
   "metadata": {},
   "source": [
    "# Sobol"
   ]
  },
  {
   "cell_type": "code",
   "execution_count": null,
   "metadata": {},
   "outputs": [
    {
     "name": "stdout",
     "output_type": "stream",
     "text": [
      "We are going to do 1536 simulations\n"
     ]
    },
    {
     "name": "stderr",
     "output_type": "stream",
     "text": [
      "/var/folders/r7/28f5nfmd03331pjr6dhr_6jm0000gn/T/ipykernel_46173/191958038.py:3: DeprecationWarning: `salib.sample.saltelli` will be removed in SALib 1.5.1 Please use `salib.sample.sobol`\n",
      "  paramsets = saltelli.sample(problem, nsamples, calc_second_order=calc_second_order)\n"
     ]
    }
   ],
   "source": [
    "calc_second_order = True\n",
    "nsamples = 2**(6+1)\n",
    "paramsets = saltelli.sample(problem, nsamples, calc_second_order=calc_second_order)\n",
    "print(\"We are going to do %s simulations\" % len(paramsets))"
   ]
  },
  {
   "cell_type": "code",
   "execution_count": null,
   "metadata": {},
   "outputs": [],
   "source": [
    "scenario = 'ssp585'\n",
    "model = 'HadGEM3-GC31-LL'\n",
    "period = '2081-2100'\n",
    "fname = f'LARS_KSHEN_{model}[LARS_KSHEN,{scenario},{period}]WG.dat'\n",
    "target = os.path.join(folder, fname)\n",
    "data = pd.read_csv(target, sep='\\t', decimal=',', index_col=False, header=None, names=columns )\n",
    "data['date'] = pd.to_datetime(data['JDAY'].apply(lambda x: '2022-'+str(x)), format='%Y-%j')"
   ]
  },
  {
   "cell_type": "code",
   "execution_count": null,
   "metadata": {},
   "outputs": [],
   "source": [
    "weather_lars = LARS_WOFOST(latitude=latitude,\n",
    "                           longitude=longitude,\n",
    "                           df_lars=data,\n",
    "                           n=8,\n",
    "                           reanalysis_year=reanalysis_year)"
   ]
  },
  {
   "cell_type": "code",
   "execution_count": null,
   "metadata": {},
   "outputs": [
    {
     "name": "stderr",
     "output_type": "stream",
     "text": [
      "100%|█████████████████████████████████████████████████████████████████████████████████████████████████████████████████████████████| 1536/1536 [03:52<00:00,  6.59it/s]\n"
     ]
    }
   ],
   "source": [
    "# Loop over the samples of the parameter values and run WOFOST for each of the samples\n",
    "target_results = []\n",
    "with tqdm(total=len(paramsets)) as pbar:\n",
    "    for i, paramset in enumerate(paramsets):\n",
    "        params.clear_override()\n",
    "        for name, value in zip(problem[\"names\"], paramset):\n",
    "            params.set_override(name, value)\n",
    "        wofost = Wofost72_PP(params, weather_lars, agro)\n",
    "        wofost.run_till_terminate()\n",
    "        r = wofost.get_summary_output()\n",
    "        target_result = r[0][target_variable]\n",
    "        if target_result is None:\n",
    "            print(\"Target variable is not available in summary output!\")\n",
    "        target_results.append(target_result)\n",
    "        pbar.update()\n",
    "target_results = np.array(target_results)"
   ]
  },
  {
   "cell_type": "code",
   "execution_count": null,
   "metadata": {},
   "outputs": [
    {
     "name": "stderr",
     "output_type": "stream",
     "text": [
      "/Users/msk-hq-nb-2960/samokat/lib/python3.11/site-packages/SALib/util/__init__.py:274: FutureWarning: unique with argument that is not not a Series, Index, ExtensionArray, or np.ndarray is deprecated and will raise in a future version.\n",
      "  names = list(pd.unique(groups))\n"
     ]
    }
   ],
   "source": [
    "Si = sobol.analyze(problem, target_results, calc_second_order=calc_second_order)"
   ]
  },
  {
   "cell_type": "code",
   "execution_count": null,
   "metadata": {},
   "outputs": [
    {
     "data": {
      "image/png": "[encoded data removed]",
      "text/plain": [
       "<Figure size 1000x600 with 1 Axes>"
      ]
     },
     "metadata": {},
     "output_type": "display_data"
    }
   ],
   "source": [
    "df_sensitivity = pd.DataFrame({\n",
    "    \"Parameter\": problem[\"names\"],\n",
    "    \"First_order\": Si[\"S1\"],\n",
    "    \"Total_order\": Si[\"ST\"]}).set_index(\"Parameter\")\n",
    "fig, axes = plt.subplots(figsize=(10,6))\n",
    "df_sensitivity.plot(kind=\"bar\", ax=axes)\n",
    "plt.title('Future climate')\n",
    "plt.savefig('./wofost_sa_future.png', dpi=300)"
   ]
  },
  {
   "cell_type": "code",
   "execution_count": null,
   "metadata": {},
   "outputs": [],
   "source": [
    "df_sensitivity.to_excel('./sa_future.xlsx')"
   ]
  },
  {
   "cell_type": "code",
   "execution_count": null,
   "metadata": {},
   "outputs": [
    {
     "data": {
      "text/html": [
       "<div>\n",
       "<style scoped>\n",
       "    .dataframe tbody tr th:only-of-type {\n",
       "        vertical-align: middle;\n",
       "    }\n",
       "\n",
       "    .dataframe tbody tr th {\n",
       "        vertical-align: top;\n",
       "    }\n",
       "\n",
       "    .dataframe thead th {\n",
       "        text-align: right;\n",
       "    }\n",
       "</style>\n",
       "<table border=\"1\" class=\"dataframe\">\n",
       "  <thead>\n",
       "    <tr style=\"text-align: right;\">\n",
       "      <th></th>\n",
       "      <th>First_order</th>\n",
       "      <th>Total_order</th>\n",
       "    </tr>\n",
       "    <tr>\n",
       "      <th>Parameter</th>\n",
       "      <th></th>\n",
       "      <th></th>\n",
       "    </tr>\n",
       "  </thead>\n",
       "  <tbody>\n",
       "    <tr>\n",
       "      <th>TSUM1</th>\n",
       "      <td>0.938620</td>\n",
       "      <td>0.887729</td>\n",
       "    </tr>\n",
       "    <tr>\n",
       "      <th>TSUM2</th>\n",
       "      <td>0.006565</td>\n",
       "      <td>0.002133</td>\n",
       "    </tr>\n",
       "    <tr>\n",
       "      <th>SPAN</th>\n",
       "      <td>-0.003665</td>\n",
       "      <td>0.018893</td>\n",
       "    </tr>\n",
       "    <tr>\n",
       "      <th>Q10</th>\n",
       "      <td>-0.004233</td>\n",
       "      <td>0.005580</td>\n",
       "    </tr>\n",
       "    <tr>\n",
       "      <th>TDWI</th>\n",
       "      <td>0.066077</td>\n",
       "      <td>0.058856</td>\n",
       "    </tr>\n",
       "  </tbody>\n",
       "</table>\n",
       "</div>"
      ],
      "text/plain": [
       "           First_order  Total_order\n",
       "Parameter                          \n",
       "TSUM1         0.938620     0.887729\n",
       "TSUM2         0.006565     0.002133\n",
       "SPAN         -0.003665     0.018893\n",
       "Q10          -0.004233     0.005580\n",
       "TDWI          0.066077     0.058856"
      ]
     },
     "execution_count": null,
     "metadata": {},
     "output_type": "execute_result"
    }
   ],
   "source": [
    "df_sensitivity"
   ]
  },
  {
   "cell_type": "code",
   "execution_count": null,
   "metadata": {},
   "outputs": [],
   "source": []
  }
 ],
 "metadata": {
  "kernelspec": {
   "display_name": "Python 3 (ipykernel)",
   "language": "python",
   "name": "python3"
  },
  "language_info": {
   "codemirror_mode": {
    "name": "ipython",
    "version": 3
   },
   "file_extension": ".py",
   "mimetype": "text/x-python",
   "name": "python",
   "nbconvert_exporter": "python",
   "pygments_lexer": "ipython3",
   "version": "3.7.3"
  }
 },
 "nbformat": 4,
 "nbformat_minor": 4
}
